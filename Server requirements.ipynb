{
 "cells": [
  {
   "cell_type": "markdown",
   "id": "d2833227",
   "metadata": {},
   "source": [
    "# download word2vec files"
   ]
  },
  {
   "cell_type": "code",
   "execution_count": null,
   "id": "bff9d6d5",
   "metadata": {},
   "outputs": [],
   "source": [
    "import gdown"
   ]
  },
  {
   "cell_type": "code",
   "execution_count": null,
   "id": "f1fc4100",
   "metadata": {},
   "outputs": [],
   "source": [
    "url = \"https://drive.google.com/u/2/uc?id=1CrOsU0TxwWzgI-Js8D-qAWVH5sPdfbcN&export=download\"\n",
    "output = \"models/word2vec/bakrianoo_unigram_cbow_model/bakr.zip\"\n",
    "gdown.download(url, output)"
   ]
  },
  {
   "cell_type": "code",
   "execution_count": null,
   "id": "303cab34",
   "metadata": {},
   "outputs": [],
   "source": [
    "url = \"https://drive.google.com/u/2/uc?id=1WeXfRZBlseSogrGO-nobQRUe9_JODqMQ&export=download\"\n",
    "output = \"models/word2vec/rezk_unigram_CBOW_model/rezk.zip\"\n",
    "gdown.download(url, output)"
   ]
  }
 ],
 "metadata": {
  "kernelspec": {
   "display_name": "Python 3",
   "language": "python",
   "name": "python3"
  },
  "language_info": {
   "codemirror_mode": {
    "name": "ipython",
    "version": 3
   },
   "file_extension": ".py",
   "mimetype": "text/x-python",
   "name": "python",
   "nbconvert_exporter": "python",
   "pygments_lexer": "ipython3",
   "version": "3.6.9"
  }
 },
 "nbformat": 4,
 "nbformat_minor": 5
}
