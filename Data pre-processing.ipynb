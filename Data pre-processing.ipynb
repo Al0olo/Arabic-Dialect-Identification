{
 "cells": [
  {
   "cell_type": "code",
   "execution_count": 1,
   "id": "d1916633",
   "metadata": {},
   "outputs": [],
   "source": [
    "# Main libraries\n",
    "from configs import *\n",
    "from data_preprocess import *\n",
    "from data_shuffling_split import *"
   ]
  },
  {
   "cell_type": "code",
   "execution_count": 2,
   "id": "248495e4",
   "metadata": {},
   "outputs": [
    {
     "name": "stdout",
     "output_type": "stream",
     "text": [
      "Number of instances in the file are:  458197\n"
     ]
    },
    {
     "data": {
      "text/html": [
       "<div>\n",
       "<style scoped>\n",
       "    .dataframe tbody tr th:only-of-type {\n",
       "        vertical-align: middle;\n",
       "    }\n",
       "\n",
       "    .dataframe tbody tr th {\n",
       "        vertical-align: top;\n",
       "    }\n",
       "\n",
       "    .dataframe thead th {\n",
       "        text-align: right;\n",
       "    }\n",
       "</style>\n",
       "<table border=\"1\" class=\"dataframe\">\n",
       "  <thead>\n",
       "    <tr style=\"text-align: right;\">\n",
       "      <th></th>\n",
       "      <th>id</th>\n",
       "      <th>dialect</th>\n",
       "      <th>text</th>\n",
       "    </tr>\n",
       "  </thead>\n",
       "  <tbody>\n",
       "    <tr>\n",
       "      <th>0</th>\n",
       "      <td>1175358310087892992</td>\n",
       "      <td>IQ</td>\n",
       "      <td>@Nw8ieJUwaCAAreT لكن بالنهاية .. ينتفض .. يغير .</td>\n",
       "    </tr>\n",
       "    <tr>\n",
       "      <th>1</th>\n",
       "      <td>1175416117793349632</td>\n",
       "      <td>IQ</td>\n",
       "      <td>@7zNqXP0yrODdRjK يعني هذا محسوب على البشر .. ح...</td>\n",
       "    </tr>\n",
       "    <tr>\n",
       "      <th>2</th>\n",
       "      <td>1175450108898565888</td>\n",
       "      <td>IQ</td>\n",
       "      <td>@KanaanRema مبين من كلامه خليجي</td>\n",
       "    </tr>\n",
       "    <tr>\n",
       "      <th>3</th>\n",
       "      <td>1175471073770573824</td>\n",
       "      <td>IQ</td>\n",
       "      <td>@HAIDER76128900 يسلملي مرورك وروحك الحلوه💐</td>\n",
       "    </tr>\n",
       "    <tr>\n",
       "      <th>4</th>\n",
       "      <td>1175496913145217024</td>\n",
       "      <td>IQ</td>\n",
       "      <td>@hmo2406 وين هل الغيبه  اخ محمد 🌸🌺</td>\n",
       "    </tr>\n",
       "  </tbody>\n",
       "</table>\n",
       "</div>"
      ],
      "text/plain": [
       "                    id dialect  \\\n",
       "0  1175358310087892992      IQ   \n",
       "1  1175416117793349632      IQ   \n",
       "2  1175450108898565888      IQ   \n",
       "3  1175471073770573824      IQ   \n",
       "4  1175496913145217024      IQ   \n",
       "\n",
       "                                                text  \n",
       "0   @Nw8ieJUwaCAAreT لكن بالنهاية .. ينتفض .. يغير .  \n",
       "1  @7zNqXP0yrODdRjK يعني هذا محسوب على البشر .. ح...  \n",
       "2                    @KanaanRema مبين من كلامه خليجي  \n",
       "3         @HAIDER76128900 يسلملي مرورك وروحك الحلوه💐  \n",
       "4                 @hmo2406 وين هل الغيبه  اخ محمد 🌸🌺  "
      ]
     },
     "execution_count": 2,
     "metadata": {},
     "output_type": "execute_result"
    }
   ],
   "source": [
    "new_dialect_dataset = read_csv(\"dialect_dataset_with_text.csv\")\n",
    "new_dialect_dataset.head()"
   ]
  },
  {
   "cell_type": "code",
   "execution_count": 3,
   "id": "fb5f69b8",
   "metadata": {},
   "outputs": [
    {
     "name": "stdout",
     "output_type": "stream",
     "text": [
      "Number of instances in the file are:  458197\n",
      "Some samples of text after preprocessed it:\n",
      "['حسابشخصي لكن بالنهايه . . ينتفض . . يغير . ', 'حسابشخصي يعني هذا محسوب علي البشر . . حيونه وحشيه . . وتطلبون من الغرب يحترمكم ويؤمن بدينكم ولاينعتكم بالارهاب . . ', 'حسابشخصي مبين من كلامه خليجي', 'حسابشخصي يسلملي مرورك وروحك الحلوه 💐 ', 'حسابشخصي وين هل الغيبه اخ محمد 🌺 ']\n",
      "==================================================\n",
      "Number of instances in our new file are:  458197\n",
      "==================================================\n",
      "Our Arabic preprocess pipeline is work without any error.\n"
     ]
    }
   ],
   "source": [
    "ids_col=\"id\" \n",
    "text_col=\"text\"\n",
    "dialect_col=\"dialect\"\n",
    "file_name_to_read = \"dialect_dataset_with_text.csv\"\n",
    "file_name_to_save = \"dialect_dataset_preprocessed_without_Lemmatization.csv\"\n",
    "_ = arabic_preprocess_pipline(file_name_to_read, file_name_to_save, ids_col,\n",
    "                              text_col, dialect_col, using_lemma=False)"
   ]
  },
  {
   "cell_type": "code",
   "execution_count": 4,
   "id": "7491a4a3",
   "metadata": {},
   "outputs": [
    {
     "name": "stdout",
     "output_type": "stream",
     "text": [
      "Number of instances in the file are:  458197\n"
     ]
    },
    {
     "data": {
      "text/html": [
       "<div>\n",
       "<style scoped>\n",
       "    .dataframe tbody tr th:only-of-type {\n",
       "        vertical-align: middle;\n",
       "    }\n",
       "\n",
       "    .dataframe tbody tr th {\n",
       "        vertical-align: top;\n",
       "    }\n",
       "\n",
       "    .dataframe thead th {\n",
       "        text-align: right;\n",
       "    }\n",
       "</style>\n",
       "<table border=\"1\" class=\"dataframe\">\n",
       "  <thead>\n",
       "    <tr style=\"text-align: right;\">\n",
       "      <th></th>\n",
       "      <th>id</th>\n",
       "      <th>dialect</th>\n",
       "      <th>dialect_l_encoded</th>\n",
       "      <th>text</th>\n",
       "    </tr>\n",
       "  </thead>\n",
       "  <tbody>\n",
       "    <tr>\n",
       "      <th>0</th>\n",
       "      <td>1175358310087892992</td>\n",
       "      <td>IQ</td>\n",
       "      <td>4</td>\n",
       "      <td>حسابشخصي لكن بالنهايه . . ينتفض . . يغير .</td>\n",
       "    </tr>\n",
       "    <tr>\n",
       "      <th>1</th>\n",
       "      <td>1175416117793349632</td>\n",
       "      <td>IQ</td>\n",
       "      <td>4</td>\n",
       "      <td>حسابشخصي يعني هذا محسوب علي البشر . . حيونه وح...</td>\n",
       "    </tr>\n",
       "    <tr>\n",
       "      <th>2</th>\n",
       "      <td>1175450108898565888</td>\n",
       "      <td>IQ</td>\n",
       "      <td>4</td>\n",
       "      <td>حسابشخصي مبين من كلامه خليجي</td>\n",
       "    </tr>\n",
       "    <tr>\n",
       "      <th>3</th>\n",
       "      <td>1175471073770573824</td>\n",
       "      <td>IQ</td>\n",
       "      <td>4</td>\n",
       "      <td>حسابشخصي يسلملي مرورك وروحك الحلوه 💐</td>\n",
       "    </tr>\n",
       "    <tr>\n",
       "      <th>4</th>\n",
       "      <td>1175496913145217024</td>\n",
       "      <td>IQ</td>\n",
       "      <td>4</td>\n",
       "      <td>حسابشخصي وين هل الغيبه اخ محمد 🌺</td>\n",
       "    </tr>\n",
       "  </tbody>\n",
       "</table>\n",
       "</div>"
      ],
      "text/plain": [
       "                    id dialect  dialect_l_encoded  \\\n",
       "0  1175358310087892992      IQ                  4   \n",
       "1  1175416117793349632      IQ                  4   \n",
       "2  1175450108898565888      IQ                  4   \n",
       "3  1175471073770573824      IQ                  4   \n",
       "4  1175496913145217024      IQ                  4   \n",
       "\n",
       "                                                text  \n",
       "0        حسابشخصي لكن بالنهايه . . ينتفض . . يغير .   \n",
       "1  حسابشخصي يعني هذا محسوب علي البشر . . حيونه وح...  \n",
       "2                       حسابشخصي مبين من كلامه خليجي  \n",
       "3              حسابشخصي يسلملي مرورك وروحك الحلوه 💐   \n",
       "4                  حسابشخصي وين هل الغيبه اخ محمد 🌺   "
      ]
     },
     "execution_count": 4,
     "metadata": {},
     "output_type": "execute_result"
    }
   ],
   "source": [
    "preprocessed_dialect_dataset = read_csv(file_name_to_save)\n",
    "preprocessed_dialect_dataset.head()"
   ]
  },
  {
   "cell_type": "code",
   "execution_count": 5,
   "id": "23646ae7",
   "metadata": {},
   "outputs": [
    {
     "name": "stdout",
     "output_type": "stream",
     "text": [
      "==================================================\n",
      "The columns of orginal data are:  Index(['id', 'dialect', 'text'], dtype='object')\n",
      "==================================================\n",
      "The columns of new created data are:  Index(['id', 'dialect', 'dialect_l_encoded', 'text'], dtype='object')\n",
      "==================================================\n"
     ]
    },
    {
     "data": {
      "text/plain": [
       "True"
      ]
     },
     "execution_count": 5,
     "metadata": {},
     "output_type": "execute_result"
    }
   ],
   "source": [
    "validate_ids_and_dialect(new_dialect_dataset, preprocessed_dialect_dataset)"
   ]
  },
  {
   "cell_type": "markdown",
   "id": "909b54f2",
   "metadata": {},
   "source": [
    "# Shuffle and Split\n",
    "\n",
    "Instead of random shuffle using ordinal **train_test_split**, we use **StratifiedShuffleSplit**, that ensure we have proportions almost identical to the orginal. It help us to make approximate distrbution for samples per class.\n",
    "\n",
    "To do that we pass the most representative attribute of our data, and as we have the dialect column which has 18 different classes, so it will be more representative to distribute sampels per class based on that attribute.\n",
    "\n",
    "**Look at the table below to see how difference between the two method of split**"
   ]
  },
  {
   "cell_type": "code",
   "execution_count": 6,
   "id": "18bbde8a",
   "metadata": {},
   "outputs": [
    {
     "name": "stdout",
     "output_type": "stream",
     "text": [
      "The number of instances in the training data after train_test_split are:  449033\n",
      "The number of instances in the testing data after train_test_split are:   9164\n",
      "The number of instances in the training data after StratifiedShuffleSplit are:  449033\n",
      "The number of instances in the testing data after StratifiedShuffleSplit are:   9164\n"
     ]
    }
   ],
   "source": [
    "train_set, test_set             = general_split_and_shuffle(preprocessed_dialect_dataset,  .02)\n",
    "strat_train_set, strat_test_set = Stratified_split_and_shuffle(preprocessed_dialect_dataset, \"dialect\", .02)"
   ]
  },
  {
   "cell_type": "code",
   "execution_count": 7,
   "id": "4b242732",
   "metadata": {},
   "outputs": [
    {
     "data": {
      "text/html": [
       "<div>\n",
       "<style scoped>\n",
       "    .dataframe tbody tr th:only-of-type {\n",
       "        vertical-align: middle;\n",
       "    }\n",
       "\n",
       "    .dataframe tbody tr th {\n",
       "        vertical-align: top;\n",
       "    }\n",
       "\n",
       "    .dataframe thead th {\n",
       "        text-align: right;\n",
       "    }\n",
       "</style>\n",
       "<table border=\"1\" class=\"dataframe\">\n",
       "  <thead>\n",
       "    <tr style=\"text-align: right;\">\n",
       "      <th></th>\n",
       "      <th>Overall</th>\n",
       "      <th>stratified_test</th>\n",
       "      <th>random_test</th>\n",
       "      <th>stratified_test. %error</th>\n",
       "      <th>random_test. %error</th>\n",
       "    </tr>\n",
       "  </thead>\n",
       "  <tbody>\n",
       "    <tr>\n",
       "      <th>AE</th>\n",
       "      <td>0.057390</td>\n",
       "      <td>0.057399</td>\n",
       "      <td>0.058162</td>\n",
       "      <td>0.014557</td>\n",
       "      <td>1.345549</td>\n",
       "    </tr>\n",
       "    <tr>\n",
       "      <th>BH</th>\n",
       "      <td>0.057381</td>\n",
       "      <td>0.057399</td>\n",
       "      <td>0.053579</td>\n",
       "      <td>0.029773</td>\n",
       "      <td>-6.626201</td>\n",
       "    </tr>\n",
       "    <tr>\n",
       "      <th>DZ</th>\n",
       "      <td>0.035319</td>\n",
       "      <td>0.035356</td>\n",
       "      <td>0.037102</td>\n",
       "      <td>0.104393</td>\n",
       "      <td>5.047820</td>\n",
       "    </tr>\n",
       "    <tr>\n",
       "      <th>EG</th>\n",
       "      <td>0.125789</td>\n",
       "      <td>0.125818</td>\n",
       "      <td>0.124509</td>\n",
       "      <td>0.023635</td>\n",
       "      <td>-1.017374</td>\n",
       "    </tr>\n",
       "    <tr>\n",
       "      <th>IQ</th>\n",
       "      <td>0.033822</td>\n",
       "      <td>0.033828</td>\n",
       "      <td>0.032519</td>\n",
       "      <td>0.018704</td>\n",
       "      <td>-3.852988</td>\n",
       "    </tr>\n",
       "    <tr>\n",
       "      <th>JO</th>\n",
       "      <td>0.060937</td>\n",
       "      <td>0.060890</td>\n",
       "      <td>0.061000</td>\n",
       "      <td>-0.075866</td>\n",
       "      <td>0.103209</td>\n",
       "    </tr>\n",
       "    <tr>\n",
       "      <th>KW</th>\n",
       "      <td>0.091902</td>\n",
       "      <td>0.091881</td>\n",
       "      <td>0.093845</td>\n",
       "      <td>-0.022028</td>\n",
       "      <td>2.115269</td>\n",
       "    </tr>\n",
       "    <tr>\n",
       "      <th>LB</th>\n",
       "      <td>0.060273</td>\n",
       "      <td>0.060236</td>\n",
       "      <td>0.060454</td>\n",
       "      <td>-0.062211</td>\n",
       "      <td>0.299883</td>\n",
       "    </tr>\n",
       "    <tr>\n",
       "      <th>LY</th>\n",
       "      <td>0.079658</td>\n",
       "      <td>0.079660</td>\n",
       "      <td>0.080096</td>\n",
       "      <td>0.002085</td>\n",
       "      <td>0.550042</td>\n",
       "    </tr>\n",
       "    <tr>\n",
       "      <th>MA</th>\n",
       "      <td>0.025183</td>\n",
       "      <td>0.025207</td>\n",
       "      <td>0.023025</td>\n",
       "      <td>0.094674</td>\n",
       "      <td>-8.571532</td>\n",
       "    </tr>\n",
       "    <tr>\n",
       "      <th>OM</th>\n",
       "      <td>0.041720</td>\n",
       "      <td>0.041685</td>\n",
       "      <td>0.044086</td>\n",
       "      <td>-0.084354</td>\n",
       "      <td>5.669951</td>\n",
       "    </tr>\n",
       "    <tr>\n",
       "      <th>PL</th>\n",
       "      <td>0.095465</td>\n",
       "      <td>0.095482</td>\n",
       "      <td>0.096028</td>\n",
       "      <td>0.017634</td>\n",
       "      <td>0.589164</td>\n",
       "    </tr>\n",
       "    <tr>\n",
       "      <th>QA</th>\n",
       "      <td>0.067807</td>\n",
       "      <td>0.067765</td>\n",
       "      <td>0.068202</td>\n",
       "      <td>-0.061809</td>\n",
       "      <td>0.581916</td>\n",
       "    </tr>\n",
       "    <tr>\n",
       "      <th>SA</th>\n",
       "      <td>0.058560</td>\n",
       "      <td>0.058599</td>\n",
       "      <td>0.057726</td>\n",
       "      <td>0.066429</td>\n",
       "      <td>-1.424319</td>\n",
       "    </tr>\n",
       "    <tr>\n",
       "      <th>SD</th>\n",
       "      <td>0.031502</td>\n",
       "      <td>0.031536</td>\n",
       "      <td>0.031646</td>\n",
       "      <td>0.110194</td>\n",
       "      <td>0.456596</td>\n",
       "    </tr>\n",
       "    <tr>\n",
       "      <th>SY</th>\n",
       "      <td>0.035448</td>\n",
       "      <td>0.035465</td>\n",
       "      <td>0.034046</td>\n",
       "      <td>0.048600</td>\n",
       "      <td>-3.953344</td>\n",
       "    </tr>\n",
       "    <tr>\n",
       "      <th>TN</th>\n",
       "      <td>0.020179</td>\n",
       "      <td>0.020188</td>\n",
       "      <td>0.018878</td>\n",
       "      <td>0.042607</td>\n",
       "      <td>-6.446643</td>\n",
       "    </tr>\n",
       "    <tr>\n",
       "      <th>YE</th>\n",
       "      <td>0.021665</td>\n",
       "      <td>0.021606</td>\n",
       "      <td>0.025098</td>\n",
       "      <td>-0.272638</td>\n",
       "      <td>15.844915</td>\n",
       "    </tr>\n",
       "  </tbody>\n",
       "</table>\n",
       "</div>"
      ],
      "text/plain": [
       "     Overall  stratified_test  random_test  stratified_test. %error  \\\n",
       "AE  0.057390         0.057399     0.058162                 0.014557   \n",
       "BH  0.057381         0.057399     0.053579                 0.029773   \n",
       "DZ  0.035319         0.035356     0.037102                 0.104393   \n",
       "EG  0.125789         0.125818     0.124509                 0.023635   \n",
       "IQ  0.033822         0.033828     0.032519                 0.018704   \n",
       "JO  0.060937         0.060890     0.061000                -0.075866   \n",
       "KW  0.091902         0.091881     0.093845                -0.022028   \n",
       "LB  0.060273         0.060236     0.060454                -0.062211   \n",
       "LY  0.079658         0.079660     0.080096                 0.002085   \n",
       "MA  0.025183         0.025207     0.023025                 0.094674   \n",
       "OM  0.041720         0.041685     0.044086                -0.084354   \n",
       "PL  0.095465         0.095482     0.096028                 0.017634   \n",
       "QA  0.067807         0.067765     0.068202                -0.061809   \n",
       "SA  0.058560         0.058599     0.057726                 0.066429   \n",
       "SD  0.031502         0.031536     0.031646                 0.110194   \n",
       "SY  0.035448         0.035465     0.034046                 0.048600   \n",
       "TN  0.020179         0.020188     0.018878                 0.042607   \n",
       "YE  0.021665         0.021606     0.025098                -0.272638   \n",
       "\n",
       "    random_test. %error  \n",
       "AE             1.345549  \n",
       "BH            -6.626201  \n",
       "DZ             5.047820  \n",
       "EG            -1.017374  \n",
       "IQ            -3.852988  \n",
       "JO             0.103209  \n",
       "KW             2.115269  \n",
       "LB             0.299883  \n",
       "LY             0.550042  \n",
       "MA            -8.571532  \n",
       "OM             5.669951  \n",
       "PL             0.589164  \n",
       "QA             0.581916  \n",
       "SA            -1.424319  \n",
       "SD             0.456596  \n",
       "SY            -3.953344  \n",
       "TN            -6.446643  \n",
       "YE            15.844915  "
      ]
     },
     "execution_count": 7,
     "metadata": {},
     "output_type": "execute_result"
    }
   ],
   "source": [
    "compare_proportions = compare_random_and_stratified_split(preprocessed_dialect_dataset, test_set, strat_test_set)\n",
    "compare_proportions"
   ]
  },
  {
   "cell_type": "code",
   "execution_count": 8,
   "id": "534315d5",
   "metadata": {},
   "outputs": [
    {
     "data": {
      "text/plain": [
       "True"
      ]
     },
     "execution_count": 8,
     "metadata": {},
     "output_type": "execute_result"
    }
   ],
   "source": [
    "strat_train_set_path_to_save = \"strat_train_set.csv\"\n",
    "\n",
    "save_train_test_data(strat_train_set, \"train/\", strat_train_set_path_to_save, data_path=DATA_PATH)"
   ]
  },
  {
   "cell_type": "code",
   "execution_count": 9,
   "id": "d92268fc",
   "metadata": {},
   "outputs": [
    {
     "data": {
      "text/plain": [
       "True"
      ]
     },
     "execution_count": 9,
     "metadata": {},
     "output_type": "execute_result"
    }
   ],
   "source": [
    "strat_test_set_path_to_save  = \"strat_test_set.csv\"\n",
    "\n",
    "save_train_test_data(strat_test_set, \"test/\", strat_test_set_path_to_save, data_path=DATA_PATH)"
   ]
  },
  {
   "cell_type": "code",
   "execution_count": 10,
   "id": "904952c4",
   "metadata": {},
   "outputs": [
    {
     "name": "stdout",
     "output_type": "stream",
     "text": [
      "Number of instances in the file are:  449033\n"
     ]
    },
    {
     "data": {
      "text/html": [
       "<div>\n",
       "<style scoped>\n",
       "    .dataframe tbody tr th:only-of-type {\n",
       "        vertical-align: middle;\n",
       "    }\n",
       "\n",
       "    .dataframe tbody tr th {\n",
       "        vertical-align: top;\n",
       "    }\n",
       "\n",
       "    .dataframe thead th {\n",
       "        text-align: right;\n",
       "    }\n",
       "</style>\n",
       "<table border=\"1\" class=\"dataframe\">\n",
       "  <thead>\n",
       "    <tr style=\"text-align: right;\">\n",
       "      <th></th>\n",
       "      <th>id</th>\n",
       "      <th>dialect</th>\n",
       "      <th>dialect_l_encoded</th>\n",
       "      <th>text</th>\n",
       "    </tr>\n",
       "  </thead>\n",
       "  <tbody>\n",
       "    <tr>\n",
       "      <th>0</th>\n",
       "      <td>1056552188082716800</td>\n",
       "      <td>LY</td>\n",
       "      <td>8</td>\n",
       "      <td>توا دوشه الكلاسيكو شن بيتمها وشن بيسكتهم وشن ب...</td>\n",
       "    </tr>\n",
       "    <tr>\n",
       "      <th>1</th>\n",
       "      <td>891734969202114560</td>\n",
       "      <td>SY</td>\n",
       "      <td>15</td>\n",
       "      <td>حسابشخصي في احلي من الشحاطه 😂</td>\n",
       "    </tr>\n",
       "    <tr>\n",
       "      <th>2</th>\n",
       "      <td>1110565179257954432</td>\n",
       "      <td>SD</td>\n",
       "      <td>14</td>\n",
       "      <td>حسابشخصي موهبه والله 😂 اوع تحاول تطورها تقوم م...</td>\n",
       "    </tr>\n",
       "    <tr>\n",
       "      <th>3</th>\n",
       "      <td>1172817955270340608</td>\n",
       "      <td>LB</td>\n",
       "      <td>7</td>\n",
       "      <td>حسابشخصي حسابشخصي 😂 انا صرلي عشر سنين مش مجدده...</td>\n",
       "    </tr>\n",
       "    <tr>\n",
       "      <th>4</th>\n",
       "      <td>293253217821790208</td>\n",
       "      <td>QA</td>\n",
       "      <td>12</td>\n",
       "      <td>احلي شعور تكون باجازه وتقوم من الصبح وتمر ع ال...</td>\n",
       "    </tr>\n",
       "  </tbody>\n",
       "</table>\n",
       "</div>"
      ],
      "text/plain": [
       "                    id dialect  dialect_l_encoded  \\\n",
       "0  1056552188082716800      LY                  8   \n",
       "1   891734969202114560      SY                 15   \n",
       "2  1110565179257954432      SD                 14   \n",
       "3  1172817955270340608      LB                  7   \n",
       "4   293253217821790208      QA                 12   \n",
       "\n",
       "                                                text  \n",
       "0  توا دوشه الكلاسيكو شن بيتمها وشن بيسكتهم وشن ب...  \n",
       "1                     حسابشخصي في احلي من الشحاطه 😂   \n",
       "2  حسابشخصي موهبه والله 😂 اوع تحاول تطورها تقوم م...  \n",
       "3  حسابشخصي حسابشخصي 😂 انا صرلي عشر سنين مش مجدده...  \n",
       "4  احلي شعور تكون باجازه وتقوم من الصبح وتمر ع ال...  "
      ]
     },
     "execution_count": 10,
     "metadata": {},
     "output_type": "execute_result"
    }
   ],
   "source": [
    "strat_train_set = read_csv(\"train/strat_train_set.csv\")\n",
    "strat_train_set.head()"
   ]
  },
  {
   "cell_type": "code",
   "execution_count": 11,
   "id": "6673ecf4",
   "metadata": {},
   "outputs": [
    {
     "name": "stdout",
     "output_type": "stream",
     "text": [
      "Number of instances in the file are:  9164\n"
     ]
    },
    {
     "data": {
      "text/html": [
       "<div>\n",
       "<style scoped>\n",
       "    .dataframe tbody tr th:only-of-type {\n",
       "        vertical-align: middle;\n",
       "    }\n",
       "\n",
       "    .dataframe tbody tr th {\n",
       "        vertical-align: top;\n",
       "    }\n",
       "\n",
       "    .dataframe thead th {\n",
       "        text-align: right;\n",
       "    }\n",
       "</style>\n",
       "<table border=\"1\" class=\"dataframe\">\n",
       "  <thead>\n",
       "    <tr style=\"text-align: right;\">\n",
       "      <th></th>\n",
       "      <th>id</th>\n",
       "      <th>dialect</th>\n",
       "      <th>dialect_l_encoded</th>\n",
       "      <th>text</th>\n",
       "    </tr>\n",
       "  </thead>\n",
       "  <tbody>\n",
       "    <tr>\n",
       "      <th>0</th>\n",
       "      <td>521982921184251904</td>\n",
       "      <td>SA</td>\n",
       "      <td>13</td>\n",
       "      <td>ياكثرهم في زمانك وياقلهم في وفاك : ياما سمعنا ...</td>\n",
       "    </tr>\n",
       "    <tr>\n",
       "      <th>1</th>\n",
       "      <td>905803604950470784</td>\n",
       "      <td>BH</td>\n",
       "      <td>1</td>\n",
       "      <td>حسابشخصي انزين انت الحين ما عرفت التسعيره عشان...</td>\n",
       "    </tr>\n",
       "    <tr>\n",
       "      <th>2</th>\n",
       "      <td>498984111034605568</td>\n",
       "      <td>LY</td>\n",
       "      <td>8</td>\n",
       "      <td>حسابشخصي ماعندكمش مطبخ في حوش فيه جو را 😂</td>\n",
       "    </tr>\n",
       "    <tr>\n",
       "      <th>3</th>\n",
       "      <td>1119979622408556416</td>\n",
       "      <td>SY</td>\n",
       "      <td>15</td>\n",
       "      <td>حسابشخصي فصح مجيد وينعاد عليكي بالخير رابطويب</td>\n",
       "    </tr>\n",
       "    <tr>\n",
       "      <th>4</th>\n",
       "      <td>1064139589617664000</td>\n",
       "      <td>KW</td>\n",
       "      <td>6</td>\n",
       "      <td>حسابشخصي الله يسلمج تسلمين وبزود نوركم وطيبكم ...</td>\n",
       "    </tr>\n",
       "  </tbody>\n",
       "</table>\n",
       "</div>"
      ],
      "text/plain": [
       "                    id dialect  dialect_l_encoded  \\\n",
       "0   521982921184251904      SA                 13   \n",
       "1   905803604950470784      BH                  1   \n",
       "2   498984111034605568      LY                  8   \n",
       "3  1119979622408556416      SY                 15   \n",
       "4  1064139589617664000      KW                  6   \n",
       "\n",
       "                                                text  \n",
       "0  ياكثرهم في زمانك وياقلهم في وفاك : ياما سمعنا ...  \n",
       "1  حسابشخصي انزين انت الحين ما عرفت التسعيره عشان...  \n",
       "2         حسابشخصي ماعندكمش مطبخ في حوش فيه جو را 😂   \n",
       "3      حسابشخصي فصح مجيد وينعاد عليكي بالخير رابطويب  \n",
       "4  حسابشخصي الله يسلمج تسلمين وبزود نوركم وطيبكم ...  "
      ]
     },
     "execution_count": 11,
     "metadata": {},
     "output_type": "execute_result"
    }
   ],
   "source": [
    "strat_test_set = read_csv(\"test/strat_test_set.csv\")\n",
    "strat_test_set.head()"
   ]
  },
  {
   "cell_type": "code",
   "execution_count": null,
   "id": "a95509b4",
   "metadata": {},
   "outputs": [],
   "source": []
  }
 ],
 "metadata": {
  "kernelspec": {
   "display_name": "Python 3",
   "language": "python",
   "name": "python3"
  },
  "language_info": {
   "codemirror_mode": {
    "name": "ipython",
    "version": 3
   },
   "file_extension": ".py",
   "mimetype": "text/x-python",
   "name": "python",
   "nbconvert_exporter": "python",
   "pygments_lexer": "ipython3",
   "version": "3.6.9"
  }
 },
 "nbformat": 4,
 "nbformat_minor": 5
}
